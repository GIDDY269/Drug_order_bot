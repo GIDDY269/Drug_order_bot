{
  "cells": [
    {
      "cell_type": "code",
      "execution_count": 4,
      "metadata": {
        "id": "RRYSu48huSUW"
      },
      "outputs": [
        {
          "name": "stderr",
          "output_type": "stream",
          "text": [
            "'pip' is not recognized as an internal or external command,\n",
            "operable program or batch file.\n"
          ]
        }
      ],
      "source": [
        "!pip -q install tiktoken duckduckgo-search"
      ]
    },
    {
      "cell_type": "code",
      "execution_count": 5,
      "metadata": {
        "id": "dNA4TsHpu6OM"
      },
      "outputs": [],
      "source": [
        "import os\n",
        "\n"
      ]
    },
    {
      "cell_type": "code",
      "execution_count": null,
      "metadata": {
        "colab": {
          "base_uri": "https://localhost:8080/"
        },
        "id": "J-KFB7J_u_3L",
        "outputId": "f7afb265-b9c1-4f63-d583-59da99dccf48"
      },
      "outputs": [
        {
          "name": "stdout",
          "output_type": "stream",
          "text": [
            "Name: langchain\n",
            "Version: 0.0.191\n",
            "Summary: Building applications with LLMs through composability\n",
            "Home-page: https://www.github.com/hwchase17/langchain\n",
            "Author: \n",
            "Author-email: \n",
            "License: MIT\n",
            "Location: /usr/local/lib/python3.10/dist-packages\n",
            "Requires: aiohttp, async-timeout, dataclasses-json, numexpr, numpy, openapi-schema-pydantic, pydantic, PyYAML, requests, SQLAlchemy, tenacity\n",
            "Required-by: \n"
          ]
        }
      ],
      "source": [
        "!pip show langchain"
      ]
    },
    {
      "cell_type": "markdown",
      "metadata": {
        "id": "HqwsGJDhvAQ5"
      },
      "source": [
        "## Custom Agents with Custom Search\n",
        "\n",
        "\n"
      ]
    },
    {
      "cell_type": "code",
      "execution_count": 6,
      "metadata": {
        "id": "nBKP5V4Aifx6"
      },
      "outputs": [],
      "source": [
        "from langchain.agents import Tool, AgentExecutor, LLMSingleActionAgent, AgentOutputParser\n",
        "from langchain.prompts import StringPromptTemplate\n",
        "\n",
        "from langchain.chains.llm import LLMChain\n",
        "from langchain.tools import DuckDuckGoSearchRun\n",
        "\n",
        "from typing import List, Union\n",
        "from langchain.schema import AgentAction, AgentFinish\n",
        "import re\n",
        "import langchain"
      ]
    },
    {
      "cell_type": "markdown",
      "metadata": {
        "id": "5TTimfydoIM7"
      },
      "source": [
        "## Setup Tools"
      ]
    },
    {
      "cell_type": "code",
      "execution_count": 7,
      "metadata": {
        "id": "TfGnKlPun_S_"
      },
      "outputs": [],
      "source": [
        "# Define which tools the agent can use to answer user queries\n",
        "search = DuckDuckGoSearchRun()\n",
        "\n",
        "tools = [\n",
        "    Tool(\n",
        "        name = \"Search\",\n",
        "        func=search.run,\n",
        "        description=\"useful for when you need to answer questions about current events\"\n",
        "    )\n",
        "]"
      ]
    },
    {
      "cell_type": "code",
      "execution_count": 8,
      "metadata": {
        "colab": {
          "base_uri": "https://localhost:8080/"
        },
        "id": "kBSNwtsktM7u",
        "outputId": "8c231b1d-06e6-45ab-a7bc-820b2f5189da"
      },
      "outputs": [
        {
          "data": {
            "text/plain": [
              "str"
            ]
          },
          "execution_count": 8,
          "metadata": {},
          "output_type": "execute_result"
        },
        {
          "name": "stderr",
          "output_type": "stream",
          "text": [
            "c:\\Users\\WORK\\OneDrive\\Desktop\\drug_bot_agent\\venv\\Lib\\site-packages\\curl_cffi\\aio.py:205: UserWarning: Curlm alread closed! quitting from process_data\n",
            "  warnings.warn(\"Curlm alread closed! quitting from process_data\")\n"
          ]
        }
      ],
      "source": [
        "obj = search.run(\"How can I treat a sprained ankle?\")\n",
        "type(obj)"
      ]
    },
    {
      "cell_type": "code",
      "execution_count": 9,
      "metadata": {
        "colab": {
          "base_uri": "https://localhost:8080/",
          "height": 174
        },
        "id": "Mftlhq6-td0n",
        "outputId": "534f8944-a482-4f34-d8e5-6e0addcaab74"
      },
      "outputs": [
        {
          "data": {
            "text/plain": [
              "\"Without proper treatment and rehabilitation, a severely injured ankle may not heal well and could lose its range of motion and stability, resulting in recurrent sprains and more downtime in the future. Anatomy of an ankle sprain. The most common type of ankle sprain is an inversion injury, or lateral ankle sprain. Sprains happen when a ligament is torn or damaged, usually when one of your joints moves further than it should. Muscle strains happen when one of your muscles is torn. People also sometimes call strains pulled muscles or muscle tears. Providers sometimes call tendon tears strains. Sprains and strains are both common sports injuries. Initial home treatment for a sprained ankle includes the RICE method (Rest, Ice, Compression, Elevation), over-the-counter pain relievers, gentle exercises, and using a brace or wrap. Applying a warm compress, gentle massage, and possibly physical therapy can aid recovery if the sprain is severe. Preventative measures include strengthening ... Avoid any activity that causes pain in the ankle. Rest your ankle, and minimize walking for the rest of the day. Ice. Apply ice to the sore part of your ankle, typically for 15 minutes on and then 15 minutes off, as much as possible for the rest of the day. Continue with 15 minutes of icing three times a day until the pain and swelling subside. Use a cold pack, a bath of ice and water, or a compression sleeve filled with cold water to keep swelling down after an injury. Ice the area as soon as you can after the injury. Ice the area for 15 to 20 minutes, 4 to 8 times a day, for the first 48 hours or until swelling goes down. Don't use ice for more than 20 minutes at a time.\""
            ]
          },
          "execution_count": 9,
          "metadata": {},
          "output_type": "execute_result"
        }
      ],
      "source": [
        "obj"
      ]
    },
    {
      "cell_type": "code",
      "execution_count": 10,
      "metadata": {
        "colab": {
          "base_uri": "https://localhost:8080/",
          "height": 174
        },
        "id": "WlCcoLLMtp3P",
        "outputId": "25ba4f95-ef6d-4676-a493-d28c6973b2f5"
      },
      "outputs": [
        {
          "data": {
            "text/plain": [
              "'Wound Care Step 3: Wash Around It. 8 /13. Put a little bit of soap on a washcloth and wash around the injured spot. Try not to get soap on the wound. Don\\'t use hydrogen peroxide or iodine, because ... 11 /14. This stands for \"rest,\" \"ice,\" \"compression,\" and \"elevation.\". It\\'s most useful for sprains and broken bones, but it can help if your feet are swollen for other reasons ... 1 /19. Deep vein thrombosis is a blood clot that forms inside a vein, usually deep within your leg. As many as 900,000 Americans a year get one, and up to 100,000 die because of it. The danger is ... 8. Shed extra weight. Losing extra weight can provide a powerful energy boost, says Stewart, of Johns Hopkins University. Even small reductions in body fat improve mood, vigor, and quality of life. 2 /23. Ultra-high heels force the feet into a position that puts stress on the ball of the foot. At this joint, the long metatarsal bones meet the pea-shaped sesamoid bones and the toe bones ...'"
            ]
          },
          "execution_count": 10,
          "metadata": {},
          "output_type": "execute_result"
        },
        {
          "name": "stderr",
          "output_type": "stream",
          "text": [
            "c:\\Users\\WORK\\OneDrive\\Desktop\\drug_bot_agent\\venv\\Lib\\site-packages\\curl_cffi\\aio.py:205: UserWarning: Curlm alread closed! quitting from process_data\n",
            "  warnings.warn(\"Curlm alread closed! quitting from process_data\")\n"
          ]
        }
      ],
      "source": [
        "search.run(\"site:webmd.com How can I treat a sprained ankle?\")"
      ]
    },
    {
      "cell_type": "code",
      "execution_count": 11,
      "metadata": {
        "id": "gqR4C-XSy46b"
      },
      "outputs": [],
      "source": [
        "def duck_wrapper(input_text):\n",
        "    search_results = search.run(f\"site:webmd.com {input_text}\")\n",
        "    return search_results\n",
        "\n",
        "tools = [\n",
        "    Tool(\n",
        "        name = \"Search WebMD\",\n",
        "        func=duck_wrapper,\n",
        "        description=\"useful for when you need to answer medical and pharmalogical questions\"\n",
        "    )\n",
        "]"
      ]
    },
    {
      "cell_type": "markdown",
      "metadata": {
        "id": "BiTC5VdwoKpv"
      },
      "source": [
        "## Prompt Template\n",
        "This instructs the agent on what to do. Generally, the template should incorporate:\n",
        "\n",
        "**`tools:`** which tools the agent has access and how and when to call them.\n",
        "\n",
        "**`intermediate_steps:`** These are tuples of previous (**`AgentAction`**, **`Observation`**) pairs. These are generally not passed directly to the model, but the prompt template formats them in a specific way.\n",
        "\n",
        "**`input:`** generic user input"
      ]
    },
    {
      "cell_type": "code",
      "execution_count": 12,
      "metadata": {
        "id": "5wJQ6rFxoTFS"
      },
      "outputs": [],
      "source": [
        "# Set up the base template\n",
        "template = \"\"\"Answer the following questions as best you can, but speaking as compasionate medical professional. You have access to the following tools:\n",
        "\n",
        "{tools}\n",
        "\n",
        "Use the following format:\n",
        "\n",
        "Question: the input question you must answer\n",
        "Thought: you should always think about what to do\n",
        "Action: the action to take, should be one of [{tool_names}]\n",
        "Action Input: the input to the action\n",
        "Observation: the result of the action\n",
        "... (this Thought/Action/Action Input/Observation can repeat N times)\n",
        "Thought: I now know the final answer\n",
        "Final Answer: the final answer to the original input question\n",
        "\n",
        "Begin! Remember to answer as a compansionate medical professional when giving your final answer.\n",
        "\n",
        "Question: {input}\n",
        "{agent_scratchpad}\"\"\""
      ]
    },
    {
      "cell_type": "code",
      "execution_count": 13,
      "metadata": {
        "id": "DBGFU6eipdw-"
      },
      "outputs": [],
      "source": [
        "# Set up a prompt template\n",
        "class CustomPromptTemplate(StringPromptTemplate):\n",
        "    # The template to use\n",
        "    template: str\n",
        "    # The list of tools available\n",
        "    tools: List[Tool]\n",
        "\n",
        "    def format(self, **kwargs) -> str:\n",
        "        # Get the intermediate steps (AgentAction, Observation tuples)\n",
        "        # Format them in a particular way\n",
        "        intermediate_steps = kwargs.pop(\"intermediate_steps\")\n",
        "        thoughts = \"\"\n",
        "        for action, observation in intermediate_steps:\n",
        "            thoughts += action.log\n",
        "            thoughts += f\"\\nObservation: {observation}\\nThought: \"\n",
        "        # Set the agent_scratchpad variable to that value\n",
        "        kwargs[\"agent_scratchpad\"] = thoughts\n",
        "        # Create a tools variable from the list of tools provided\n",
        "        kwargs[\"tools\"] = \"\\n\".join([f\"{tool.name}: {tool.description}\" for tool in self.tools])\n",
        "        # Create a list of tool names for the tools provided\n",
        "        kwargs[\"tool_names\"] = \", \".join([tool.name for tool in self.tools])\n",
        "        return self.template.format(**kwargs)"
      ]
    },
    {
      "cell_type": "code",
      "execution_count": 14,
      "metadata": {
        "id": "fwau_HsGpjnv"
      },
      "outputs": [],
      "source": [
        "prompt = CustomPromptTemplate(\n",
        "    template=template,\n",
        "    tools=tools,\n",
        "    # This omits the `agent_scratchpad`, `tools`, and `tool_names` variables because those are generated dynamically\n",
        "    # This includes the `intermediate_steps` variable because that is needed\n",
        "    input_variables=[\"input\", \"intermediate_steps\"]\n",
        ")"
      ]
    },
    {
      "cell_type": "markdown",
      "metadata": {
        "id": "x7_Wy0A-ppyN"
      },
      "source": [
        "## Custom Output Parser\n",
        "The output parser is responsible for parsing the LLM output into AgentAction and AgentFinish. This usually depends heavily on the prompt used.\n",
        "\n",
        "This is where you can change the parsing to do retries, handle whitespace, etc"
      ]
    },
    {
      "cell_type": "code",
      "execution_count": 15,
      "metadata": {
        "id": "uy5ZFci1plim"
      },
      "outputs": [],
      "source": [
        "class CustomOutputParser(AgentOutputParser):\n",
        "\n",
        "    def parse(self, llm_output: str) -> Union[AgentAction, AgentFinish]:\n",
        "        # Check if agent should finish\n",
        "        if \"Final Answer:\" in llm_output:\n",
        "            return AgentFinish(\n",
        "                # Return values is generally always a dictionary with a single `output` key\n",
        "                # It is not recommended to try anything else at the moment :)\n",
        "                return_values={\"output\": llm_output.split(\"Final Answer:\")[-1].strip()},\n",
        "                log=llm_output,\n",
        "            )\n",
        "        # Parse out the action and action input\n",
        "        regex = r\"Action\\s*\\d*\\s*:(.*?)\\nAction\\s*\\d*\\s*Input\\s*\\d*\\s*:[\\s]*(.*)\"\n",
        "        match = re.search(regex, llm_output, re.DOTALL)\n",
        "        if not match:\n",
        "            raise ValueError(f\"Could not parse LLM output: `{llm_output}`\")\n",
        "        action = match.group(1).strip()\n",
        "        action_input = match.group(2)\n",
        "        # Return the action and action input\n",
        "        return AgentAction(tool=action, tool_input=action_input.strip(\" \").strip('\"'), log=llm_output)"
      ]
    },
    {
      "cell_type": "code",
      "execution_count": 16,
      "metadata": {
        "id": "UXXU8Dxtpygn"
      },
      "outputs": [],
      "source": [
        "output_parser = CustomOutputParser()"
      ]
    },
    {
      "cell_type": "markdown",
      "metadata": {
        "id": "gJvyjKIPp4Pr"
      },
      "source": [
        "## Set up LLM\n",
        "Choose the LLM you want to use!"
      ]
    },
    {
      "cell_type": "code",
      "execution_count": 25,
      "metadata": {
        "id": "ot2zRfIgp3Hp"
      },
      "outputs": [],
      "source": [
        "from langchain_google_genai import GoogleGenerativeAI\n",
        "from langchain_google_genai.chat_models import ChatGoogleGenerativeAI\n",
        "llm = ChatGoogleGenerativeAI(temperature=0,model='gemini-pro',google_api_key=os.getenv('GEMINI_KEY'))"
      ]
    },
    {
      "cell_type": "markdown",
      "metadata": {
        "id": "hduATyfxp_pn"
      },
      "source": [
        "## Define the stop sequence\n",
        "This is important because it tells the LLM when to stop generation.\n",
        "\n",
        "This depends heavily on the prompt and model you are using. Generally, you want this to be whatever token you use in the prompt to denote the start of an Observation (otherwise, the LLM may hallucinate an observation for you)."
      ]
    },
    {
      "cell_type": "markdown",
      "metadata": {
        "id": "TcUy_X4WqFHL"
      },
      "source": [
        "## Set up the Agent\n",
        "We can now combine everything to set up our agent"
      ]
    },
    {
      "cell_type": "code",
      "execution_count": 26,
      "metadata": {
        "id": "Xrv4LMc_qF38"
      },
      "outputs": [],
      "source": [
        "# LLM chain consisting of the LLM and a prompt\n",
        "llm_chain = LLMChain(llm=llm, prompt=prompt)"
      ]
    },
    {
      "cell_type": "code",
      "execution_count": 27,
      "metadata": {
        "id": "EfhRkuBXqKl5"
      },
      "outputs": [],
      "source": [
        "tool_names = [tool.name for tool in tools]\n",
        "\n",
        "agent = LLMSingleActionAgent(\n",
        "    llm_chain=llm_chain,\n",
        "    output_parser=output_parser,\n",
        "    stop=[\"\\nObservation:\"],\n",
        "    allowed_tools=tool_names\n",
        ")"
      ]
    },
    {
      "cell_type": "code",
      "execution_count": 28,
      "metadata": {},
      "outputs": [
        {
          "data": {
            "text/plain": [
              "['Search WebMD']"
            ]
          },
          "execution_count": 28,
          "metadata": {},
          "output_type": "execute_result"
        }
      ],
      "source": [
        "tool_names"
      ]
    },
    {
      "cell_type": "markdown",
      "metadata": {
        "id": "PlT9FGpwqPX6"
      },
      "source": [
        "\n",
        "### What is an Agent Executor?\n",
        "\n",
        "Agent Executors take an agent and tools and use the agent to decide which tools to call and in what order.\n",
        "\n"
      ]
    },
    {
      "cell_type": "code",
      "execution_count": 29,
      "metadata": {
        "id": "2zkQ-jLwqMX9"
      },
      "outputs": [],
      "source": [
        "agent_executor = AgentExecutor.from_agent_and_tools(agent=agent,\n",
        "                                                    tools=tools,\n",
        "                                                    verbose=True)"
      ]
    },
    {
      "cell_type": "code",
      "execution_count": 32,
      "metadata": {
        "colab": {
          "base_uri": "https://localhost:8080/",
          "height": 298
        },
        "id": "5pajWUheqY-e",
        "outputId": "def524f0-a2a9-426c-fb0a-0d051cce666d"
      },
      "outputs": [
        {
          "name": "stdout",
          "output_type": "stream",
          "text": [
            "\n",
            "\n",
            "\u001b[1m> Entering new AgentExecutor chain...\u001b[0m\n",
            "\u001b[32;1m\u001b[1;3mThought: I should search WebMD for information on treating a sprained ankle\n",
            "Action: Search WebMD\n",
            "Action Input: How to treat a sprained ankle\u001b[0m\n",
            "\n",
            "Observation:\u001b[36;1m\u001b[1;3m11 /14. This stands for \"rest,\" \"ice,\" \"compression,\" and \"elevation.\". It's most useful for sprains and broken bones, but it can help if your feet are swollen for other reasons ... All high heels boost the risk of an ankle sprain.The most common, a lateral sprain, happens when you roll onto the outside of the foot. This stretches the ankle ligaments beyond their normal length. 1 /19. Deep vein thrombosis is a blood clot that forms inside a vein, usually deep within your leg. As many as 900,000 Americans a year get one, and up to 100,000 die because of it. The danger is ... Exercise also \"promotes weight loss, which is helpful for joint pain and improves balance and coordination,\" Callahan said. Physical activity can also strengthen the muscles around the joints ... Gargle with salt water. It's a good way to soothe a throbbing throat. The salt water eases swelling and loosens mucus. Stir one-quarter to one-half teaspoon of salt into a cup of warm water until it's dissolved, and gargle a few times a day. Sip a hot beverage.\u001b[0m\n",
            "\u001b[32;1m\u001b[1;3mI now know the final answer\n",
            "Final Answer: The RICE method is the most common treatment for a sprained ankle. RICE stands for rest, ice, compression, and elevation. Resting the ankle will help to reduce swelling and pain. Applying ice to the ankle will also help to reduce swelling and pain. Compressing the ankle with an elastic bandage will help to support the ankle and reduce swelling. Elevating the ankle will help to reduce swelling and pain.\u001b[0m\n",
            "\n",
            "\u001b[1m> Finished chain.\u001b[0m\n"
          ]
        },
        {
          "data": {
            "text/plain": [
              "'The RICE method is the most common treatment for a sprained ankle. RICE stands for rest, ice, compression, and elevation. Resting the ankle will help to reduce swelling and pain. Applying ice to the ankle will also help to reduce swelling and pain. Compressing the ankle with an elastic bandage will help to support the ankle and reduce swelling. Elevating the ankle will help to reduce swelling and pain.'"
            ]
          },
          "execution_count": 32,
          "metadata": {},
          "output_type": "execute_result"
        },
        {
          "name": "stderr",
          "output_type": "stream",
          "text": [
            "c:\\Users\\WORK\\OneDrive\\Desktop\\drug_bot_agent\\venv\\Lib\\site-packages\\curl_cffi\\aio.py:205: UserWarning: Curlm alread closed! quitting from process_data\n",
            "  warnings.warn(\"Curlm alread closed! quitting from process_data\")\n"
          ]
        }
      ],
      "source": [
        "agent_executor.run(\"How can I treat a spained ankle?\")"
      ]
    },
    {
      "cell_type": "markdown",
      "metadata": {
        "id": "NXnlu-fj5XLa"
      },
      "source": [
        "### in Debug mode"
      ]
    },
    {
      "cell_type": "code",
      "execution_count": 31,
      "metadata": {
        "id": "Zi2la8Td5bEf"
      },
      "outputs": [],
      "source": [
        "langchain.debug = False"
      ]
    },
    {
      "cell_type": "code",
      "execution_count": 24,
      "metadata": {
        "colab": {
          "base_uri": "https://localhost:8080/",
          "height": 1000
        },
        "id": "aMwrWML65Z5Z",
        "outputId": "1be7c624-41a6-46aa-e012-6d6ff5081196"
      },
      "outputs": [
        {
          "name": "stdout",
          "output_type": "stream",
          "text": [
            "\u001b[32;1m\u001b[1;3m[chain/start]\u001b[0m \u001b[1m[1:chain:AgentExecutor] Entering Chain run with input:\n",
            "\u001b[0m{\n",
            "  \"input\": \"How can I treat a spained ankle?\"\n",
            "}\n",
            "\u001b[32;1m\u001b[1;3m[chain/start]\u001b[0m \u001b[1m[1:chain:AgentExecutor > 2:chain:LLMChain] Entering Chain run with input:\n",
            "\u001b[0m{\n",
            "  \"intermediate_steps\": [],\n",
            "  \"stop\": [\n",
            "    \"\\nObservation:\"\n",
            "  ],\n",
            "  \"input\": \"How can I treat a spained ankle?\"\n",
            "}\n",
            "\u001b[32;1m\u001b[1;3m[llm/start]\u001b[0m \u001b[1m[1:chain:AgentExecutor > 2:chain:LLMChain > 3:llm:GoogleGenerativeAI] Entering LLM run with input:\n",
            "\u001b[0m{\n",
            "  \"prompts\": [\n",
            "    \"Answer the following questions as best you can, but speaking as compasionate medical professional. You have access to the following tools:\\n\\nSearch WebMD: useful for when you need to answer medical and pharmalogical questions\\n\\nUse the following format:\\n\\nQuestion: the input question you must answer\\nThought: you should always think about what to do\\nAction: the action to take, should be one of [Search WebMD]\\nAction Input: the input to the action\\nObservation: the result of the action\\n... (this Thought/Action/Action Input/Observation can repeat N times)\\nThought: I now know the final answer\\nFinal Answer: the final answer to the original input question\\n\\nBegin! Remember to answer as a compansionate medical professional when giving your final answer.\\n\\nQuestion: How can I treat a spained ankle?\"\n",
            "  ]\n",
            "}\n",
            "\u001b[36;1m\u001b[1;3m[llm/end]\u001b[0m \u001b[1m[1:chain:AgentExecutor > 2:chain:LLMChain > 3:llm:GoogleGenerativeAI] [2.80s] Exiting LLM run with output:\n",
            "\u001b[0m{\n",
            "  \"generations\": [\n",
            "    [\n",
            "      {\n",
            "        \"text\": \"Thought: I should search WebMD for information on treating a sprained ankle\\nAction: Search WebMD\\nAction Input: How to treat a sprained ankle\",\n",
            "        \"generation_info\": null,\n",
            "        \"type\": \"Generation\"\n",
            "      }\n",
            "    ]\n",
            "  ],\n",
            "  \"llm_output\": null,\n",
            "  \"run\": null\n",
            "}\n",
            "\u001b[36;1m\u001b[1;3m[chain/end]\u001b[0m \u001b[1m[1:chain:AgentExecutor > 2:chain:LLMChain] [2.81s] Exiting Chain run with output:\n",
            "\u001b[0m{\n",
            "  \"text\": \"Thought: I should search WebMD for information on treating a sprained ankle\\nAction: Search WebMD\\nAction Input: How to treat a sprained ankle\"\n",
            "}\n",
            "\u001b[32;1m\u001b[1;3m[tool/start]\u001b[0m \u001b[1m[1:chain:AgentExecutor > 4:tool:Search WebMD] Entering Tool run with input:\n",
            "\u001b[0m\"How to treat a sprained ankle\"\n",
            "\u001b[32;1m\u001b[1;3m[tool/start]\u001b[0m \u001b[1m[1:tool:duckduckgo_search] Entering Tool run with input:\n",
            "\u001b[0m\"site:webmd.com How to treat a sprained ankle\"\n",
            "\u001b[36;1m\u001b[1;3m[tool/end]\u001b[0m \u001b[1m[1:tool:duckduckgo_search] [2.68s] Exiting Tool run with output:\n",
            "\u001b[0m\"11 /14. This stands for \"rest,\" \"ice,\" \"compression,\" and \"elevation.\". It's most useful for sprains and broken bones, but it can help if your feet are swollen for other reasons ... 2 /23. Ultra-high heels force the feet into a position that puts stress on the ball of the foot. At this joint, the long metatarsal bones meet the pea-shaped sesamoid bones and the toe bones ... 1 /19. Deep vein thrombosis is a blood clot that forms inside a vein, usually deep within your leg. As many as 900,000 Americans a year get one, and up to 100,000 die because of it. The danger is ... Exercise also \"promotes weight loss, which is helpful for joint pain and improves balance and coordination,\" Callahan said. Physical activity can also strengthen the muscles around the joints ... Gargle with salt water. It's a good way to soothe a throbbing throat. The salt water eases swelling and loosens mucus. Stir one-quarter to one-half teaspoon of salt into a cup of warm water until it's dissolved, and gargle a few times a day. Sip a hot beverage.\"\n",
            "\u001b[36;1m\u001b[1;3m[tool/end]\u001b[0m \u001b[1m[1:chain:AgentExecutor > 4:tool:Search WebMD] [2.69s] Exiting Tool run with output:\n",
            "\u001b[0m\"11 /14. This stands for \"rest,\" \"ice,\" \"compression,\" and \"elevation.\". It's most useful for sprains and broken bones, but it can help if your feet are swollen for other reasons ... 2 /23. Ultra-high heels force the feet into a position that puts stress on the ball of the foot. At this joint, the long metatarsal bones meet the pea-shaped sesamoid bones and the toe bones ... 1 /19. Deep vein thrombosis is a blood clot that forms inside a vein, usually deep within your leg. As many as 900,000 Americans a year get one, and up to 100,000 die because of it. The danger is ... Exercise also \"promotes weight loss, which is helpful for joint pain and improves balance and coordination,\" Callahan said. Physical activity can also strengthen the muscles around the joints ... Gargle with salt water. It's a good way to soothe a throbbing throat. The salt water eases swelling and loosens mucus. Stir one-quarter to one-half teaspoon of salt into a cup of warm water until it's dissolved, and gargle a few times a day. Sip a hot beverage.\"\n",
            "\u001b[32;1m\u001b[1;3m[chain/start]\u001b[0m \u001b[1m[1:chain:AgentExecutor > 5:chain:LLMChain] Entering Chain run with input:\n",
            "\u001b[0m[inputs]\n",
            "\u001b[32;1m\u001b[1;3m[llm/start]\u001b[0m \u001b[1m[1:chain:AgentExecutor > 5:chain:LLMChain > 6:llm:GoogleGenerativeAI] Entering LLM run with input:\n",
            "\u001b[0m{\n",
            "  \"prompts\": [\n",
            "    \"Answer the following questions as best you can, but speaking as compasionate medical professional. You have access to the following tools:\\n\\nSearch WebMD: useful for when you need to answer medical and pharmalogical questions\\n\\nUse the following format:\\n\\nQuestion: the input question you must answer\\nThought: you should always think about what to do\\nAction: the action to take, should be one of [Search WebMD]\\nAction Input: the input to the action\\nObservation: the result of the action\\n... (this Thought/Action/Action Input/Observation can repeat N times)\\nThought: I now know the final answer\\nFinal Answer: the final answer to the original input question\\n\\nBegin! Remember to answer as a compansionate medical professional when giving your final answer.\\n\\nQuestion: How can I treat a spained ankle?\\nThought: I should search WebMD for information on treating a sprained ankle\\nAction: Search WebMD\\nAction Input: How to treat a sprained ankle\\nObservation: 11 /14. This stands for \\\"rest,\\\" \\\"ice,\\\" \\\"compression,\\\" and \\\"elevation.\\\". It's most useful for sprains and broken bones, but it can help if your feet are swollen for other reasons ... 2 /23. Ultra-high heels force the feet into a position that puts stress on the ball of the foot. At this joint, the long metatarsal bones meet the pea-shaped sesamoid bones and the toe bones ... 1 /19. Deep vein thrombosis is a blood clot that forms inside a vein, usually deep within your leg. As many as 900,000 Americans a year get one, and up to 100,000 die because of it. The danger is ... Exercise also \\\"promotes weight loss, which is helpful for joint pain and improves balance and coordination,\\\" Callahan said. Physical activity can also strengthen the muscles around the joints ... Gargle with salt water. It's a good way to soothe a throbbing throat. The salt water eases swelling and loosens mucus. Stir one-quarter to one-half teaspoon of salt into a cup of warm water until it's dissolved, and gargle a few times a day. Sip a hot beverage.\\nThought:\"\n",
            "  ]\n",
            "}\n",
            "\u001b[36;1m\u001b[1;3m[llm/end]\u001b[0m \u001b[1m[1:chain:AgentExecutor > 5:chain:LLMChain > 6:llm:GoogleGenerativeAI] [5.61s] Exiting LLM run with output:\n",
            "\u001b[0m{\n",
            "  \"generations\": [\n",
            "    [\n",
            "      {\n",
            "        \"text\": \"Action: Search WebMD\\nAction Input: How to treat a sprained ankle\",\n",
            "        \"generation_info\": null,\n",
            "        \"type\": \"Generation\"\n",
            "      }\n",
            "    ]\n",
            "  ],\n",
            "  \"llm_output\": null,\n",
            "  \"run\": null\n",
            "}\n",
            "\u001b[36;1m\u001b[1;3m[chain/end]\u001b[0m \u001b[1m[1:chain:AgentExecutor > 5:chain:LLMChain] [5.62s] Exiting Chain run with output:\n",
            "\u001b[0m{\n",
            "  \"text\": \"Action: Search WebMD\\nAction Input: How to treat a sprained ankle\"\n",
            "}\n",
            "\u001b[32;1m\u001b[1;3m[tool/start]\u001b[0m \u001b[1m[1:chain:AgentExecutor > 7:tool:Search WebMD] Entering Tool run with input:\n",
            "\u001b[0m\"How to treat a sprained ankle\"\n",
            "\u001b[32;1m\u001b[1;3m[tool/start]\u001b[0m \u001b[1m[1:tool:duckduckgo_search] Entering Tool run with input:\n",
            "\u001b[0m\"site:webmd.com How to treat a sprained ankle\"\n"
          ]
        },
        {
          "name": "stderr",
          "output_type": "stream",
          "text": [
            "c:\\Users\\WORK\\OneDrive\\Desktop\\drug_bot_agent\\venv\\Lib\\site-packages\\curl_cffi\\aio.py:205: UserWarning: Curlm alread closed! quitting from process_data\n",
            "  warnings.warn(\"Curlm alread closed! quitting from process_data\")\n"
          ]
        },
        {
          "name": "stdout",
          "output_type": "stream",
          "text": [
            "\u001b[36;1m\u001b[1;3m[tool/end]\u001b[0m \u001b[1m[1:tool:duckduckgo_search] [2.70s] Exiting Tool run with output:\n",
            "\u001b[0m\"11 /14. This stands for \"rest,\" \"ice,\" \"compression,\" and \"elevation.\". It's most useful for sprains and broken bones, but it can help if your feet are swollen for other reasons ... 2 /23. Ultra-high heels force the feet into a position that puts stress on the ball of the foot. At this joint, the long metatarsal bones meet the pea-shaped sesamoid bones and the toe bones ... 1 /19. Deep vein thrombosis is a blood clot that forms inside a vein, usually deep within your leg. As many as 900,000 Americans a year get one, and up to 100,000 die because of it. The danger is ... Wound Care Step 3: Wash Around It. 8 /13. Put a little bit of soap on a washcloth and wash around the injured spot. Try not to get soap on the wound. Don't use hydrogen peroxide or iodine, because ... Gargle with salt water. It's a good way to soothe a throbbing throat. The salt water eases swelling and loosens mucus. Stir one-quarter to one-half teaspoon of salt into a cup of warm water until it's dissolved, and gargle a few times a day. Sip a hot beverage.\"\n",
            "\u001b[36;1m\u001b[1;3m[tool/end]\u001b[0m \u001b[1m[1:chain:AgentExecutor > 7:tool:Search WebMD] [2.70s] Exiting Tool run with output:\n",
            "\u001b[0m\"11 /14. This stands for \"rest,\" \"ice,\" \"compression,\" and \"elevation.\". It's most useful for sprains and broken bones, but it can help if your feet are swollen for other reasons ... 2 /23. Ultra-high heels force the feet into a position that puts stress on the ball of the foot. At this joint, the long metatarsal bones meet the pea-shaped sesamoid bones and the toe bones ... 1 /19. Deep vein thrombosis is a blood clot that forms inside a vein, usually deep within your leg. As many as 900,000 Americans a year get one, and up to 100,000 die because of it. The danger is ... Wound Care Step 3: Wash Around It. 8 /13. Put a little bit of soap on a washcloth and wash around the injured spot. Try not to get soap on the wound. Don't use hydrogen peroxide or iodine, because ... Gargle with salt water. It's a good way to soothe a throbbing throat. The salt water eases swelling and loosens mucus. Stir one-quarter to one-half teaspoon of salt into a cup of warm water until it's dissolved, and gargle a few times a day. Sip a hot beverage.\"\n",
            "\u001b[32;1m\u001b[1;3m[chain/start]\u001b[0m \u001b[1m[1:chain:AgentExecutor > 8:chain:LLMChain] Entering Chain run with input:\n",
            "\u001b[0m[inputs]\n",
            "\u001b[32;1m\u001b[1;3m[llm/start]\u001b[0m \u001b[1m[1:chain:AgentExecutor > 8:chain:LLMChain > 9:llm:GoogleGenerativeAI] Entering LLM run with input:\n",
            "\u001b[0m{\n",
            "  \"prompts\": [\n",
            "    \"Answer the following questions as best you can, but speaking as compasionate medical professional. You have access to the following tools:\\n\\nSearch WebMD: useful for when you need to answer medical and pharmalogical questions\\n\\nUse the following format:\\n\\nQuestion: the input question you must answer\\nThought: you should always think about what to do\\nAction: the action to take, should be one of [Search WebMD]\\nAction Input: the input to the action\\nObservation: the result of the action\\n... (this Thought/Action/Action Input/Observation can repeat N times)\\nThought: I now know the final answer\\nFinal Answer: the final answer to the original input question\\n\\nBegin! Remember to answer as a compansionate medical professional when giving your final answer.\\n\\nQuestion: How can I treat a spained ankle?\\nThought: I should search WebMD for information on treating a sprained ankle\\nAction: Search WebMD\\nAction Input: How to treat a sprained ankle\\nObservation: 11 /14. This stands for \\\"rest,\\\" \\\"ice,\\\" \\\"compression,\\\" and \\\"elevation.\\\". It's most useful for sprains and broken bones, but it can help if your feet are swollen for other reasons ... 2 /23. Ultra-high heels force the feet into a position that puts stress on the ball of the foot. At this joint, the long metatarsal bones meet the pea-shaped sesamoid bones and the toe bones ... 1 /19. Deep vein thrombosis is a blood clot that forms inside a vein, usually deep within your leg. As many as 900,000 Americans a year get one, and up to 100,000 die because of it. The danger is ... Exercise also \\\"promotes weight loss, which is helpful for joint pain and improves balance and coordination,\\\" Callahan said. Physical activity can also strengthen the muscles around the joints ... Gargle with salt water. It's a good way to soothe a throbbing throat. The salt water eases swelling and loosens mucus. Stir one-quarter to one-half teaspoon of salt into a cup of warm water until it's dissolved, and gargle a few times a day. Sip a hot beverage.\\nThought: Action: Search WebMD\\nAction Input: How to treat a sprained ankle\\nObservation: 11 /14. This stands for \\\"rest,\\\" \\\"ice,\\\" \\\"compression,\\\" and \\\"elevation.\\\". It's most useful for sprains and broken bones, but it can help if your feet are swollen for other reasons ... 2 /23. Ultra-high heels force the feet into a position that puts stress on the ball of the foot. At this joint, the long metatarsal bones meet the pea-shaped sesamoid bones and the toe bones ... 1 /19. Deep vein thrombosis is a blood clot that forms inside a vein, usually deep within your leg. As many as 900,000 Americans a year get one, and up to 100,000 die because of it. The danger is ... Wound Care Step 3: Wash Around It. 8 /13. Put a little bit of soap on a washcloth and wash around the injured spot. Try not to get soap on the wound. Don't use hydrogen peroxide or iodine, because ... Gargle with salt water. It's a good way to soothe a throbbing throat. The salt water eases swelling and loosens mucus. Stir one-quarter to one-half teaspoon of salt into a cup of warm water until it's dissolved, and gargle a few times a day. Sip a hot beverage.\\nThought:\"\n",
            "  ]\n",
            "}\n",
            "\u001b[36;1m\u001b[1;3m[llm/end]\u001b[0m \u001b[1m[1:chain:AgentExecutor > 8:chain:LLMChain > 9:llm:GoogleGenerativeAI] [2.55s] Exiting LLM run with output:\n",
            "\u001b[0m{\n",
            "  \"generations\": [\n",
            "    [\n",
            "      {\n",
            "        \"text\": \"I now know the final answer\\nFinal Answer: The RICE method is a common treatment for sprains. RICE stands for rest, ice, compression, and elevation. Resting the injured ankle will help to reduce swelling and pain. Applying ice to the ankle will also help to reduce swelling and pain. Compressing the ankle with an elastic bandage will help to reduce swelling. Elevating the ankle above the level of the heart will also help to reduce swelling.\",\n",
            "        \"generation_info\": null,\n",
            "        \"type\": \"Generation\"\n",
            "      }\n",
            "    ]\n",
            "  ],\n",
            "  \"llm_output\": null,\n",
            "  \"run\": null\n",
            "}\n",
            "\u001b[36;1m\u001b[1;3m[chain/end]\u001b[0m \u001b[1m[1:chain:AgentExecutor > 8:chain:LLMChain] [2.55s] Exiting Chain run with output:\n",
            "\u001b[0m{\n",
            "  \"text\": \"I now know the final answer\\nFinal Answer: The RICE method is a common treatment for sprains. RICE stands for rest, ice, compression, and elevation. Resting the injured ankle will help to reduce swelling and pain. Applying ice to the ankle will also help to reduce swelling and pain. Compressing the ankle with an elastic bandage will help to reduce swelling. Elevating the ankle above the level of the heart will also help to reduce swelling.\"\n",
            "}\n",
            "\u001b[36;1m\u001b[1;3m[chain/end]\u001b[0m \u001b[1m[1:chain:AgentExecutor] [16.40s] Exiting Chain run with output:\n",
            "\u001b[0m{\n",
            "  \"output\": \"The RICE method is a common treatment for sprains. RICE stands for rest, ice, compression, and elevation. Resting the injured ankle will help to reduce swelling and pain. Applying ice to the ankle will also help to reduce swelling and pain. Compressing the ankle with an elastic bandage will help to reduce swelling. Elevating the ankle above the level of the heart will also help to reduce swelling.\"\n",
            "}\n"
          ]
        },
        {
          "data": {
            "text/plain": [
              "'The RICE method is a common treatment for sprains. RICE stands for rest, ice, compression, and elevation. Resting the injured ankle will help to reduce swelling and pain. Applying ice to the ankle will also help to reduce swelling and pain. Compressing the ankle with an elastic bandage will help to reduce swelling. Elevating the ankle above the level of the heart will also help to reduce swelling.'"
            ]
          },
          "execution_count": 24,
          "metadata": {},
          "output_type": "execute_result"
        },
        {
          "name": "stderr",
          "output_type": "stream",
          "text": [
            "c:\\Users\\WORK\\OneDrive\\Desktop\\drug_bot_agent\\venv\\Lib\\site-packages\\curl_cffi\\aio.py:205: UserWarning: Curlm alread closed! quitting from process_data\n",
            "  warnings.warn(\"Curlm alread closed! quitting from process_data\")\n"
          ]
        }
      ],
      "source": [
        "agent_executor.run(\"How can I treat a spained ankle?\")"
      ]
    },
    {
      "cell_type": "code",
      "execution_count": null,
      "metadata": {
        "id": "JcotgIvj_54n"
      },
      "outputs": [],
      "source": [
        "langchain.debug = False"
      ]
    },
    {
      "cell_type": "markdown",
      "metadata": {
        "id": "wdFW3pDEqgw7"
      },
      "source": [
        "## Adding a Conversation Memory\n",
        "If you want to add memory to the agent, you’ll need to:\n",
        "\n",
        "1. Add  **`chat_history`** into the custom prompt\n",
        "\n",
        "2. Add the memory object to the agent executor when defining it."
      ]
    },
    {
      "cell_type": "code",
      "execution_count": null,
      "metadata": {
        "id": "DsApe8WIqaMH"
      },
      "outputs": [],
      "source": [
        "# Set up the base template\n",
        "template_with_history = \"\"\"Answer the following questions as best you can, but speaking as compasionate medical professional. You have access to the following tools:\n",
        "\n",
        "{tools}\n",
        "\n",
        "Use the following format:\n",
        "\n",
        "Question: the input question you must answer\n",
        "Thought: you should always think about what to do\n",
        "Action: the action to take, should be one of [{tool_names}]\n",
        "Action Input: the input to the action\n",
        "Observation: the result of the action\n",
        "... (this Thought/Action/Action Input/Observation can repeat N times)\n",
        "Thought: I now know the final answer\n",
        "Final Answer: the final answer to the original input question\n",
        "\n",
        "Begin! Remember to speak as a compasionate medical professional when giving your final answer. If the condition is serious advise they speak to a doctor.\n",
        "\n",
        "Previous conversation history:\n",
        "{history}\n",
        "\n",
        "New question: {input}\n",
        "{agent_scratchpad}\"\"\""
      ]
    },
    {
      "cell_type": "code",
      "execution_count": null,
      "metadata": {
        "id": "4ZbFCdHWqjs_"
      },
      "outputs": [],
      "source": [
        "prompt_with_history = CustomPromptTemplate(\n",
        "    template=template_with_history,\n",
        "    tools=tools,\n",
        "    # This omits the `agent_scratchpad`, `tools`, and `tool_names` variables because those are generated dynamically\n",
        "    # This includes the `intermediate_steps` variable because that is needed\n",
        "    input_variables=[\"input\", \"intermediate_steps\", \"history\"]\n",
        ")"
      ]
    },
    {
      "cell_type": "code",
      "execution_count": null,
      "metadata": {
        "id": "Nd8TYJKmqmze"
      },
      "outputs": [],
      "source": [
        "llm_chain = LLMChain(llm=llm, prompt=prompt_with_history)"
      ]
    },
    {
      "cell_type": "code",
      "execution_count": null,
      "metadata": {
        "id": "fEFR4Vx_qpYO"
      },
      "outputs": [],
      "source": [
        "tool_names = [tool.name for tool in tools]\n",
        "agent = LLMSingleActionAgent(\n",
        "    llm_chain=llm_chain,\n",
        "    output_parser=output_parser,\n",
        "    stop=[\"\\nObservation:\"],\n",
        "    allowed_tools=tool_names\n",
        ")"
      ]
    },
    {
      "cell_type": "code",
      "execution_count": null,
      "metadata": {
        "id": "c3slL6vYqrt7"
      },
      "outputs": [],
      "source": [
        "from langchain.memory import ConversationBufferWindowMemory\n",
        "\n",
        "memory=ConversationBufferWindowMemory(k=2)"
      ]
    },
    {
      "cell_type": "code",
      "execution_count": null,
      "metadata": {
        "id": "A6Zqkn3aqulq"
      },
      "outputs": [],
      "source": [
        "agent_executor = AgentExecutor.from_agent_and_tools(\n",
        "    agent=agent,\n",
        "    tools=tools,\n",
        "    verbose=True,\n",
        "    memory=memory\n",
        "    )"
      ]
    },
    {
      "cell_type": "code",
      "execution_count": null,
      "metadata": {
        "colab": {
          "base_uri": "https://localhost:8080/",
          "height": 315
        },
        "id": "JySasF_8q5Ie",
        "outputId": "fbe54607-d5d2-4fef-e164-afd2f14b5c69"
      },
      "outputs": [
        {
          "name": "stdout",
          "output_type": "stream",
          "text": [
            "\n",
            "\n",
            "\u001b[1m> Entering new AgentExecutor chain...\u001b[0m\n",
            "\u001b[32;1m\u001b[1;3m\n",
            "Thought: I need to find out what the best treatment for a sprained ankle is.\n",
            "Action: Search WebMD\n",
            "Action Input: \"sprained ankle treatment\"\u001b[0m\n",
            "\n",
            "Observation:\u001b[36;1m\u001b[1;3m3 /12. To curb swelling and pain in the first 24 hours after a minor injury, apply a cold compress for 20-30 minutes. Then remove it for 20-30 minutes. You can use a bag of frozen peas. Or put ice ... Achilles Tendon Injury Symptoms. The most obvious sign is pain above your heel, especially when you stretch your ankle or stand on your toes. It may be mild and get better or worse over time. If ... Symptoms of muscle strain include: Swelling, bruising, or redness due to the injury. Pain at rest. Pain when the specific muscle or the joint in relation to that muscle is used. Weakness of the ... Trauma to an area (jerking movements, auto accidents, falls, fractures, sprains, dislocations, and direct blows to the muscle) also can cause musculoskeletal pain. Other causes of pain include ... Being overweight. Stress fractures in your toes or metatarsals. Bunions. Torn ligaments in your feet. A condition known as Morton's neuroma (interdigital neuroma) also causes metatarsalgia-like ...\u001b[0m\n",
            "\u001b[32;1m\u001b[1;3m I now know the best treatment for a sprained ankle.\n",
            "Final Answer: To treat a sprained ankle, it is important to reduce swelling and pain in the first 24 hours after the injury. Apply a cold compress for 20-30 minutes, then remove it for 20-30 minutes. You can use a bag of frozen peas. If the pain persists or worsens, it is important to seek medical attention.\u001b[0m\n",
            "\n",
            "\u001b[1m> Finished chain.\u001b[0m\n"
          ]
        },
        {
          "data": {
            "application/vnd.google.colaboratory.intrinsic+json": {
              "type": "string"
            },
            "text/plain": [
              "'To treat a sprained ankle, it is important to reduce swelling and pain in the first 24 hours after the injury. Apply a cold compress for 20-30 minutes, then remove it for 20-30 minutes. You can use a bag of frozen peas. If the pain persists or worsens, it is important to seek medical attention.'"
            ]
          },
          "execution_count": 29,
          "metadata": {},
          "output_type": "execute_result"
        }
      ],
      "source": [
        "agent_executor.run(\"How can I treat a sprained ankle?\")"
      ]
    },
    {
      "cell_type": "code",
      "execution_count": null,
      "metadata": {
        "colab": {
          "base_uri": "https://localhost:8080/",
          "height": 367
        },
        "id": "VDt8-4F-q9y9",
        "outputId": "ec92942c-57d1-408e-eb9a-e486ed314cba"
      },
      "outputs": [
        {
          "name": "stdout",
          "output_type": "stream",
          "text": [
            "\n",
            "\n",
            "\u001b[1m> Entering new AgentExecutor chain...\u001b[0m\n"
          ]
        },
        {
          "name": "stderr",
          "output_type": "stream",
          "text": [
            "WARNING:langchain.llms.openai:Retrying langchain.llms.openai.completion_with_retry.<locals>._completion_with_retry in 4.0 seconds as it raised RateLimitError: The server had an error while processing your request. Sorry about that!.\n"
          ]
        },
        {
          "name": "stdout",
          "output_type": "stream",
          "text": [
            "\u001b[32;1m\u001b[1;3mThought: I need to know what medications are available to treat a sprained ankle.\n",
            "Action: Search WebMD\n",
            "Action Input: Sprained ankle medications\u001b[0m\n",
            "\n",
            "Observation:\u001b[36;1m\u001b[1;3m3 /12. To curb swelling and pain in the first 24 hours after a minor injury, apply a cold compress for 20-30 minutes. Then remove it for 20-30 minutes. You can use a bag of frozen peas. Or put ice ... Achilles Tendon Injury Symptoms. The most obvious sign is pain above your heel, especially when you stretch your ankle or stand on your toes. It may be mild and get better or worse over time. If ... Symptoms of muscle strain include: Swelling, bruising, or redness due to the injury. Pain at rest. Pain when the specific muscle or the joint in relation to that muscle is used. Weakness of the ... RICE. 2 /14. It stands for rest, ice, compress, and elevate, and it's the go-to treatment for minor sprains and bruising. Ice the injury as soon as possible and put pressure on it with an ... Trauma to an area (jerking movements, auto accidents, falls, fractures, sprains, dislocations, and direct blows to the muscle) also can cause musculoskeletal pain. Other causes of pain include ...\u001b[0m\n"
          ]
        },
        {
          "name": "stderr",
          "output_type": "stream",
          "text": [
            "WARNING:langchain.llms.openai:Retrying langchain.llms.openai.completion_with_retry.<locals>._completion_with_retry in 4.0 seconds as it raised RateLimitError: The server had an error while processing your request. Sorry about that!.\n"
          ]
        },
        {
          "name": "stdout",
          "output_type": "stream",
          "text": [
            "\u001b[32;1m\u001b[1;3m I now know the medications available to treat a sprained ankle.\n",
            "Final Answer: To treat a sprained ankle, it is important to reduce swelling and pain in the first 24 hours after the injury. Apply a cold compress for 20-30 minutes, then remove it for 20-30 minutes. You can use a bag of frozen peas. Other medications that may be used to treat a sprained ankle include over-the-counter pain relievers such as ibuprofen or acetaminophen, and topical creams or gels that contain menthol or capsaicin. If the pain persists or worsens, it is important to seek medical attention.\u001b[0m\n",
            "\n",
            "\u001b[1m> Finished chain.\u001b[0m\n"
          ]
        },
        {
          "data": {
            "application/vnd.google.colaboratory.intrinsic+json": {
              "type": "string"
            },
            "text/plain": [
              "'To treat a sprained ankle, it is important to reduce swelling and pain in the first 24 hours after the injury. Apply a cold compress for 20-30 minutes, then remove it for 20-30 minutes. You can use a bag of frozen peas. Other medications that may be used to treat a sprained ankle include over-the-counter pain relievers such as ibuprofen or acetaminophen, and topical creams or gels that contain menthol or capsaicin. If the pain persists or worsens, it is important to seek medical attention.'"
            ]
          },
          "execution_count": 30,
          "metadata": {},
          "output_type": "execute_result"
        }
      ],
      "source": [
        "agent_executor.run(\"What meds could I take?\")"
      ]
    },
    {
      "cell_type": "code",
      "execution_count": null,
      "metadata": {
        "colab": {
          "base_uri": "https://localhost:8080/",
          "height": 315
        },
        "id": "l30nHUrxrBd7",
        "outputId": "a22455c8-eb47-4a41-adac-c1542ecb71c4"
      },
      "outputs": [
        {
          "name": "stdout",
          "output_type": "stream",
          "text": [
            "\n",
            "\n",
            "\u001b[1m> Entering new AgentExecutor chain...\u001b[0m\n",
            "\u001b[32;1m\u001b[1;3m\n",
            "Thought: I need to find out how long it takes for a sprained ankle to heal.\n",
            "Action: Search WebMD\n",
            "Action Input: Sprained ankle healing time\u001b[0m\n",
            "\n",
            "Observation:\u001b[36;1m\u001b[1;3m3 /12. To curb swelling and pain in the first 24 hours after a minor injury, apply a cold compress for 20-30 minutes. Then remove it for 20-30 minutes. You can use a bag of frozen peas. Or put ice ... Achilles Tendon Injury Symptoms. The most obvious sign is pain above your heel, especially when you stretch your ankle or stand on your toes. It may be mild and get better or worse over time. If ... Symptoms of muscle strain include: Swelling, bruising, or redness due to the injury. Pain at rest. Pain when the specific muscle or the joint in relation to that muscle is used. Weakness of the ... 7 /15. Over the next 4-21 days, you get a soft callus around the broken bone. This is when a substance called collagen moves in and slowly replaces the blood clot. The callus is stiffer than a ... Many Colors. As you heal, an iron-rich substance in your blood -- called hemoglobin -- breaks down into other compounds. This process makes your bruise change colors: • It's usually red right ...\u001b[0m\n",
            "\u001b[32;1m\u001b[1;3m I now know the final answer.\n",
            "Final Answer: It typically takes 4-21 days for a sprained ankle to heal. During this time, it is important to reduce swelling and pain by applying a cold compress for 20-30 minutes, then removing it for 20-30 minutes. If the pain persists or worsens, it is important to seek medical attention.\u001b[0m\n",
            "\n",
            "\u001b[1m> Finished chain.\u001b[0m\n"
          ]
        },
        {
          "data": {
            "application/vnd.google.colaboratory.intrinsic+json": {
              "type": "string"
            },
            "text/plain": [
              "'It typically takes 4-21 days for a sprained ankle to heal. During this time, it is important to reduce swelling and pain by applying a cold compress for 20-30 minutes, then removing it for 20-30 minutes. If the pain persists or worsens, it is important to seek medical attention.'"
            ]
          },
          "execution_count": 31,
          "metadata": {},
          "output_type": "execute_result"
        }
      ],
      "source": [
        "agent_executor.run(\"How long will it take to heal?\")"
      ]
    },
    {
      "cell_type": "code",
      "execution_count": null,
      "metadata": {
        "id": "YvLD_1Ek1kmU"
      },
      "outputs": [],
      "source": []
    }
  ],
  "metadata": {
    "colab": {
      "provenance": []
    },
    "kernelspec": {
      "display_name": "Python 3",
      "name": "python3"
    },
    "language_info": {
      "codemirror_mode": {
        "name": "ipython",
        "version": 3
      },
      "file_extension": ".py",
      "mimetype": "text/x-python",
      "name": "python",
      "nbconvert_exporter": "python",
      "pygments_lexer": "ipython3",
      "version": "3.11.0"
    }
  },
  "nbformat": 4,
  "nbformat_minor": 0
}
